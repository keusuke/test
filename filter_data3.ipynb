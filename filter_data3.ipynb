{
 "cells": [
  {
   "cell_type": "code",
   "execution_count": 1,
   "metadata": {},
   "outputs": [],
   "source": [
    "import os\n",
    "import pandas as pd"
   ]
  },
  {
   "cell_type": "code",
   "execution_count": 2,
   "metadata": {},
   "outputs": [],
   "source": [
    "def filter_records(file_path, target_year):\n",
    "    df = pd.read_csv(file_path)  # CSVファイルを読み込む\n",
    "    df = df[~((df['年度1'] - df['年度2']).abs() <= 12) | ~(df['品種'] == 1) | ~(df['年度3'] <= target_year)]  # 条件に該当するレコードを除外\n",
    "    return df\n",
    "\n",
    "def process_files(folder_path, target_year):\n",
    "    for file_name in os.listdir(folder_path):  # フォルダ内のファイルを順に処理\n",
    "        if file_name.endswith('.csv'):  # 拡張子が.csvのファイルのみ処理\n",
    "            file_path = os.path.join(folder_path, file_name)\n",
    "            filtered_df = filter_records(file_path, target_year)  # レコードをフィルタリング\n",
    "            filtered_df.to_csv(file_path, index=False)  # フィルタリング結果を上書き保存"
   ]
  },
  {
   "cell_type": "code",
   "execution_count": null,
   "metadata": {},
   "outputs": [],
   "source": [
    "# フォルダと指定年度を設定して処理を実行\n",
    "folder_path = '/path/to/folder'  # フォルダのパスを指定\n",
    "target_year = 2023  # Xに該当する年度を指定\n",
    "process_files(folder_path, target_year)"
   ]
  }
 ],
 "metadata": {
  "kernelspec": {
   "display_name": "kaggle",
   "language": "python",
   "name": "python3"
  },
  "language_info": {
   "codemirror_mode": {
    "name": "ipython",
    "version": 3
   },
   "file_extension": ".py",
   "mimetype": "text/x-python",
   "name": "python",
   "nbconvert_exporter": "python",
   "pygments_lexer": "ipython3",
   "version": "3.10.8"
  },
  "orig_nbformat": 4
 },
 "nbformat": 4,
 "nbformat_minor": 2
}
