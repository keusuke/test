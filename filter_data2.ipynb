import os
import pandas as pd

def filter_records(file_path, target_year):
    df = pd.read_csv(file_path)  # CSVファイルを読み込む
    df = df[~((df['年度1'] - df['年度2']).abs() <= 12) | ~(df['品種'] == 1) | ~(df['年度3'] <= target_year)]  # 条件に該当するレコードを除外
    return df

def process_files(folder_path, target_year):
    for file_name in os.listdir(folder_path):  # フォルダ内のファイルを順に処理
        if file_name.endswith('.csv'):  # 拡張子が.csvのファイルのみ処理
            file_path = os.path.join(folder_path, file_name)
            filtered_df = filter_records(file_path, target_year)  # レコードをフィルタリング
            filtered_df.to_csv(file_path, index=False)  # フィルタリング結果を上書き保存

# フォルダと指定年度を設定して処理を実行
folder_path = '/path/to/folder'  # フォルダのパスを指定
target_year = 2023  # Xに該当する年度を指定
process_files(folder_path, target_year)
