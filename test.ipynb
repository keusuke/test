{
 "cells": [
  {
   "cell_type": "code",
   "execution_count": 27,
   "metadata": {},
   "outputs": [],
   "source": [
    "import requests\n",
    "from bs4 import BeautifulSoup\n",
    "import urllib"
   ]
  },
  {
   "cell_type": "code",
   "execution_count": 28,
   "metadata": {},
   "outputs": [],
   "source": [
    "#サイトから情報取得\n",
    "load_url = \"https://www.coindeskjapan.com/\"\n",
    "html = requests.get(load_url)\n",
    "html.encoding = html.apparent_encoding"
   ]
  },
  {
   "cell_type": "code",
   "execution_count": 29,
   "metadata": {},
   "outputs": [],
   "source": [
    "#HTMLを解析する\n",
    "soup = BeautifulSoup(html.text,'html.parser')\n",
    "\n",
    "#ファイルを書き込みモードで開く\n",
    "filename = \"asahilinklist.txt\"\n",
    "f = open(filename, mode=\"w\")\n"
   ]
  },
  {
   "cell_type": "code",
   "execution_count": 30,
   "metadata": {},
   "outputs": [],
   "source": [
    "#URLの情報を取得する\n",
    "# topic = soup.find_all(\"a\", class_=['l-featured', 'l-archive'])\n",
    "# topic = soup.find_all(\"a\")\n",
    "topic = soup.find('div',class_=['l-featured', 'l-archive']).find_all(\"a\")"
   ]
  },
  {
   "cell_type": "code",
   "execution_count": 31,
   "metadata": {},
   "outputs": [
    {
     "name": "stdout",
     "output_type": "stream",
     "text": [
      "\n",
      "\n",
      "\n",
      "\n",
      "\n",
      "Opinion\n",
      "Opinion\n",
      "バイナンスは大丈夫、ではない【オピニオン】\n",
      "Genevieve Roch-Decter\n",
      "\n",
      "バイナンスの現状は、Twitterに出回ったミーム画像が簡潔に表現している。\n",
      "\n",
      "\n",
      "\n",
      "出典：Twitter\n",
      "\n",
      "\n",
      "\n",
      "燃え盛る炎の中で、チャンポン・ジャオCEOは「大丈夫」と ...\n",
      "\n",
      "\n",
      "\n",
      "\n",
      "\n",
      "Industries\n",
      "Industries\n",
      "10億ドル超の資産を確認、FTX 新CFOが公聴会で発言──日本の保全資産にも言及\n",
      "Jack Schickler\n",
      "\n",
      "新たに就任したFTX幹部は現在、崩壊したFTXのポジションを解決するために、数百の銀行口座から数億ドルの現金を取り戻そうとしている。\n",
      "\n",
      "\n",
      "\n",
      "同社の新経営陣は12月20日 ...\n",
      "\n",
      "\n",
      "\n",
      "\n",
      "\n",
      "Industries\n",
      "Industries\n",
      "三菱UFJ信託、デジタル資産基盤「Progmat」をナショナルインフラに拡大──7社で合弁会社設立へ\n",
      "coindesk JAPAN\n",
      "\n",
      "三菱UFJ信託銀行は、次世代のデジタル資産プラットフォームとして開発・提供を進めている「Progmat（プログマ）」を、広く業界をあげて「ナショナルインフラ」とする取り ...\n",
      "Markets\n",
      "Markets\n",
      "【US市場】ビットコイン、1万6800ドル台で推移\n",
      "Jocelyn Yang\n",
      "\n",
      "トップニュース\n",
      "\n",
      "\n",
      "\n",
      "破綻した暗号資産レンディング大手ブロックファイ（BlockFi）は、プラットフォームに凍結されている顧客資産の引き出しを許可するようにアメリカの裁 ...\n",
      "Industries\n",
      "Industries\n",
      "破綻したブロックファイ、一部顧客の出金再開を裁判所に申請\n",
      "Sandali Handagama\n",
      "\n",
      "破綻した暗号資産レンディング大手ブロックファイ（BlockFi）は、プラットフォームに凍結されている顧客資産の引き出しを許可するようにアメリカの裁判所に申請したことが、 ...\n"
     ]
    }
   ],
   "source": [
    "for element in topic:\n",
    "    print(element.text)\n",
    "    url = element.get(\"href\")\n",
    "    link_url = urllib.parse.urljoin(load_url, url)\n",
    "    #インターネットから取得したデータを書き込む\n",
    "    f.write(element.text+\"\\n\")\n",
    "    f.write(link_url+\"\\n\")\n",
    "    f.write(\"\\n\")\n",
    "\n",
    "#最後にファイルを閉じる\n",
    "f.close()\n"
   ]
  },
  {
   "cell_type": "code",
   "execution_count": null,
   "metadata": {},
   "outputs": [],
   "source": []
  }
 ],
 "metadata": {
  "kernelspec": {
   "display_name": "news",
   "language": "python",
   "name": "python3"
  },
  "language_info": {
   "codemirror_mode": {
    "name": "ipython",
    "version": 3
   },
   "file_extension": ".py",
   "mimetype": "text/x-python",
   "name": "python",
   "nbconvert_exporter": "python",
   "pygments_lexer": "ipython3",
   "version": "3.10.8"
  },
  "orig_nbformat": 4,
  "vscode": {
   "interpreter": {
    "hash": "a4ad0694a955fa21906aae7085306ec8fb88e1cf1275aa1a4f899968ae325994"
   }
  }
 },
 "nbformat": 4,
 "nbformat_minor": 2
}
